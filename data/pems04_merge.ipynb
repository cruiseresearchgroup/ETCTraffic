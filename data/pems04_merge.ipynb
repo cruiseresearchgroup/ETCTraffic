{
 "cells": [
  {
   "cell_type": "code",
   "execution_count": null,
   "id": "d077afd7",
   "metadata": {
    "ExecuteTime": {
     "end_time": "2024-05-04T23:28:11.360371Z",
     "start_time": "2024-05-04T23:28:11.183769Z"
    }
   },
   "outputs": [],
   "source": [
    "import numpy as np\n",
    "import matplotlib.pyplot as plt\n",
    "import os\n",
    "import pandas as pd"
   ]
  },
  {
   "cell_type": "code",
   "execution_count": null,
   "id": "0e9edc97",
   "metadata": {
    "ExecuteTime": {
     "end_time": "2024-05-04T23:31:17.504134Z",
     "start_time": "2024-05-04T23:31:16.422786Z"
    },
    "scrolled": true
   },
   "outputs": [],
   "source": [
    "data2001 = pd.read_csv('./pems04/d04_text_station_5min_2018_02_28.txt.gz',header=None, usecols=range(12))\n",
    "# Assign column names based on the provided headers\n",
    "column_names = [\n",
    "    \"Timestamp\", \"Station\", \"District\", \"Freeway #\", \n",
    "    \"Direction of Travel\", \"Lane Type\", \"Station Length\", \n",
    "    \"Samples\", \"% Observed\", \"Total Flow\", \"Avg Occupancy\", \"Avg Speed\"\n",
    "]\n",
    "\n",
    "# Assign column names to the dataframe\n",
    "data2001.columns = column_names\n",
    "data2001"
   ]
  },
  {
   "cell_type": "code",
   "execution_count": null,
   "id": "ba8db779",
   "metadata": {
    "ExecuteTime": {
     "end_time": "2024-05-04T23:28:15.244878Z",
     "start_time": "2024-05-04T23:28:15.238685Z"
    }
   },
   "outputs": [],
   "source": [
    "comm = np.load('pems04_comm.npy')\n",
    "comm"
   ]
  },
  {
   "cell_type": "code",
   "execution_count": null,
   "id": "8681a402",
   "metadata": {
    "ExecuteTime": {
     "end_time": "2024-05-05T01:16:10.994267Z",
     "start_time": "2024-05-04T23:32:20.263852Z"
    }
   },
   "outputs": [],
   "source": [
    "import pandas as pd\n",
    "import calendar\n",
    "from datetime import date, timedelta\n",
    "\n",
    "def read_and_process_data(file_path):\n",
    "    # Read the CSV file, specifying the usecols parameter to only load the columns of interest\n",
    "    data = pd.read_csv(\n",
    "        file_path, \n",
    "        header=None, \n",
    "        usecols=[0, 1, 9],  # Column indexes for Timestamp, Station, and Total Flow\n",
    "        names=['Timestamp', 'Station', 'Avg Flow'],  # Assigning column names\n",
    "        compression='gzip'\n",
    "    )\n",
    "\n",
    "    # Convert the Timestamp column to datetime format and set it as the index\n",
    "    data['Timestamp'] = pd.to_datetime(data['Timestamp'])\n",
    "    data.set_index('Timestamp', inplace=True)\n",
    "\n",
    "    # Pivot the table to get Stations as columns and Total Flow as cell values\n",
    "    pivot_data = data.pivot(columns='Station', values='Avg Flow')\n",
    "\n",
    "    return pivot_data\n",
    "\n",
    "# Read the data for February 28 to get the column names (Station IDs)\n",
    "feb_28_data = read_and_process_data('./pems04/d04_text_station_5min_2018_02_28.txt.gz')\n",
    "feb_28_columns = feb_28_data.columns\n",
    "\n",
    "# Initialize a list to hold the data for all days\n",
    "all_data = []\n",
    "\n",
    "start_date = date(2002, 6, 1)  # 开始日期\n",
    "end_date = date(2024, 3, 20)   # 结束日期\n",
    "current_date = start_date\n",
    "all_data = []                  # 存储所有数据的列表\n",
    "\n",
    "while current_date <= end_date:\n",
    "    year = current_date.year\n",
    "    month = current_date.month\n",
    "    day = current_date.day\n",
    "    file_path = f'./pems04/d04_text_station_5min_{year}_{month:02d}_{day:02d}.txt.gz'\n",
    "    \n",
    "    # 检查文件是否存在\n",
    "    if not os.path.exists(file_path):\n",
    "        print(f\"File not found: {file_path}, skipping...\")\n",
    "        current_date += timedelta(days=1)\n",
    "        continue\n",
    "    \n",
    "    day_data = read_and_process_data(file_path)\n",
    "    \n",
    "    # 使用字典存储新列，以便一次性添加到数据帧\n",
    "    new_columns = {}\n",
    "    for col in comm:\n",
    "        if col not in day_data:\n",
    "            new_columns[col] = 0  # 假设使用0填充缺失的列\n",
    "\n",
    "    # 使用 pd.concat 添加所有新列\n",
    "    if new_columns:\n",
    "        new_data = pd.DataFrame(new_columns, index=day_data.index)\n",
    "        day_data = pd.concat([day_data, new_data], axis=1)\n",
    "\n",
    "    # 将列重新排序以匹配2月28日的顺序\n",
    "    day_data = day_data[comm]\n",
    "    \n",
    "    all_data.append(day_data)\n",
    "    \n",
    "    current_date += timedelta(days=1)\n",
    "\n",
    "# Concatenate all daily data into a single DataFrame\n",
    "combined_data = pd.concat(all_data)\n",
    "\n",
    "# Fill any remaining missing values with 0\n",
    "combined_data.fillna(0, inplace=True)\n",
    "\n",
    "# The combined_data DataFrame now holds the merged data for January 1 to February 28\n",
    "# with columns aligned to February 28 and missing values filled with 0\n",
    "# Note: The code execution is commented out to prevent execution in this environment.\n",
    "# combined_data.head()\n",
    "combined_data.to_csv('pems04_all_common_flow.csv')"
   ]
  },
  {
   "cell_type": "code",
   "execution_count": null,
   "id": "020c66bf",
   "metadata": {
    "ExecuteTime": {
     "end_time": "2024-04-16T00:14:12.508486Z",
     "start_time": "2024-04-16T00:14:10.007650Z"
    }
   },
   "outputs": [],
   "source": [
    "combined_data"
   ]
  },
  {
   "cell_type": "code",
   "execution_count": 2,
   "id": "0fb91996",
   "metadata": {
    "ExecuteTime": {
     "end_time": "2024-05-23T16:54:32.316931Z",
     "start_time": "2024-05-23T16:46:52.823947Z"
    }
   },
   "outputs": [
    {
     "name": "stderr",
     "output_type": "stream",
     "text": [
      "C:\\Users\\Administrator\\AppData\\Local\\Temp\\ipykernel_51680\\3748972102.py:11: FutureWarning: 'H' is deprecated and will be removed in a future version, please use 'h' instead.\n",
      "  pems04_hourly = pems04.resample('H').sum()\n"
     ]
    }
   ],
   "source": [
    "import pandas as pd\n",
    "pems04 = pd.read_csv('pems04_all_common_flow.csv')\n",
    "\n",
    "# Convert the 'date' column to datetime\n",
    "pems04['date'] = pd.to_datetime(pems04['date'])\n",
    "\n",
    "# Set the 'date' column as the index\n",
    "pems04.set_index('date', inplace=True)\n",
    "\n",
    "# Resample to hourly data and aggregate using sum\n",
    "pems04_hourly = pems04.resample('H').sum()\n",
    "\n",
    "# Reset the index if you want the 'date' column back\n",
    "pems04_hourly.reset_index(inplace=True)\n",
    "pems04_hourly.to_csv('pems04_h.csv',index=False)\n",
    "\n",
    "\n",
    "# Convert the 'date' column to datetime\n",
    "pems04 = pd.read_csv('pems04_all_common_flow.csv')\n",
    "pems04['date'] = pd.to_datetime(pems04['date'])\n",
    "\n",
    "# Set the 'date' column as the index\n",
    "pems04.set_index('date', inplace=True)\n",
    "\n",
    "# Resample to hourly data and aggregate using sum\n",
    "pems04_daily = pems04.resample('D').sum()\n",
    "\n",
    "# Reset the index if you want the 'date' column back\n",
    "pems04_daily.reset_index(inplace=True)\n",
    "pems04_daily.to_csv('pems04_d.csv',index=False)"
   ]
  },
  {
   "cell_type": "code",
   "execution_count": null,
   "id": "5b0d424b",
   "metadata": {},
   "outputs": [],
   "source": []
  }
 ],
 "metadata": {
  "kernelspec": {
   "display_name": "torch110",
   "language": "python",
   "name": "torch110"
  },
  "language_info": {
   "codemirror_mode": {
    "name": "ipython",
    "version": 3
   },
   "file_extension": ".py",
   "mimetype": "text/x-python",
   "name": "python",
   "nbconvert_exporter": "python",
   "pygments_lexer": "ipython3",
   "version": "3.11.8"
  }
 },
 "nbformat": 4,
 "nbformat_minor": 5
}
